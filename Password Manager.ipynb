{
 "cells": [
  {
   "cell_type": "code",
   "execution_count": 1,
   "metadata": {},
   "outputs": [],
   "source": [
    "import random as ra\n",
    "import tkinter as tk\n",
    "import pandas as pd\n",
    "import os.path"
   ]
  },
  {
   "cell_type": "code",
   "execution_count": 2,
   "metadata": {},
   "outputs": [],
   "source": [
    "def gen(length,s,n):   \n",
    "    alpha = 'abcdefghijkmnopqrstuvwxyzABCDEFGHIJKLMNPQRSTUVWXYZ' # I removed ambigous characters like lowercase L and capital 0\n",
    "    special ='`~!@#$%^&*_-=+;:\"/?.><' # comma removed to be consistent withing csv\n",
    "    num = '0123456789' # any ambiguous characters are numbers\n",
    "    pas = []\n",
    "    global password\n",
    "    password =''\n",
    "    letters = int(length)-int(n)-int(s)\n",
    "    for i in range(int(s)):\n",
    "        pas.append(special[ra.randint(0,22)])\n",
    "        i+=1\n",
    "    for k in range(letters):\n",
    "        pas.append(alpha[ra.randint(0,49)])\n",
    "        k+=1\n",
    "    for j in range(int(n)):\n",
    "        pas.append(num[ra.randint(0,9)])\n",
    "        j+=1\n",
    "    ra.shuffle(pas)\n",
    "    y = ''.join(pas)\n",
    "    if int(length)<=8:\n",
    "        label['text'] = 'Password: '+str(y) +'\\n However, a length of 8 or less is not recommended'\n",
    "    else:\n",
    "        label['text'] = 'Password: '+str(y)\n",
    "    password = str(y)\n",
    "    \n",
    "def save(url): \n",
    "    head = ['Password','URL/account']\n",
    "    df = pd.DataFrame([[password, url]], columns=head)\n",
    "    if os.path.isfile('PASSWORDS.csv'):\n",
    "        df.to_csv('PASSWORDS.csv',mode='a',header=False)\n",
    "        #df = df.append([[password,url]])\n",
    "        labels['text'] = 'Saved for URL: ' + str(url)\n",
    "    else:\n",
    "        df.to_csv('PASSWORDS.csv')\n",
    "        labels['text'] = 'Saved for URL: ' + str(url)"
   ]
  },
  {
   "cell_type": "code",
   "execution_count": 6,
   "metadata": {},
   "outputs": [],
   "source": [
    "H=800\n",
    "W=800\n",
    "window = tk.Tk()\n",
    "window.title(\"PWM\")\n",
    "\n",
    "canvas = tk.Canvas(window,height=H,width=W)\n",
    "canvas.pack()\n",
    "\n",
    "frame = tk.Frame(window,bd=5)\n",
    "frame.place(relwidth=.75,relheight=.5,relx=.5,rely=.1,anchor='n')\n",
    "\n",
    "label1 = tk.Label(frame,text = 'Password Length:',anchor='w')\n",
    "label1.place(relwidth=.3,relheight=.08)\n",
    "\n",
    "label2 = tk.Label(frame,text = 'Number of Special Characters:',anchor='w')\n",
    "label2.place(rely=.21,relwidth=.3,relheight=.08)\n",
    "\n",
    "label3 = tk.Label(frame,text = 'Number of Numbers:',anchor='w')\n",
    "label3.place(rely=.41,relwidth=.3,relheight=.08)\n",
    "\n",
    "label3 = tk.Label(frame,text = 'URL:',anchor='w')\n",
    "label3.place(rely=.61,relwidth=.3,relheight=.08)\n",
    "\n",
    "entry = tk.Entry(frame,font=40)\n",
    "entry.place(rely=.1,relwidth=.65,relheight=.1)\n",
    "\n",
    "entry2 = tk.Entry(frame,font=40)\n",
    "entry2.place(rely=.3,relwidth=.65,relheight=.1)\n",
    "\n",
    "entry3 = tk.Entry(frame,font=40)\n",
    "entry3.place(rely=.5,relwidth=.65,relheight=.1)\n",
    "\n",
    "entry4 = tk.Entry(frame,font=40)\n",
    "entry4.place(rely=.7,relwidth=.65,relheight=.1)\n",
    "\n",
    "\n",
    "button1 = tk.Button(frame, text = \"Generate Pass\",font=40,command=lambda: gen(entry.get(),entry2.get(),entry3.get()))\n",
    "button1.place(rely=.5,relx=.7,relwidth=.3,relheight=.1)\n",
    "\n",
    "button = tk.Button(frame, text = \"Save?\",font=40,command=lambda: save(entry4.get()))\n",
    "button.place(rely=.8,relx=.2,relwidth=.3,relheight=.1)\n",
    "\n",
    "\n",
    "lframe = tk.Frame(window,bg='#80c1ff',bd=1)\n",
    "lframe.place(relx=.4,rely=.55,relwidth=.6,relheight=.3 ,anchor='n')\n",
    "\n",
    "label = tk.Label(lframe)\n",
    "label.place(relwidth=1,relheight=.5)\n",
    "\n",
    "labels = tk.Label(lframe)\n",
    "labels.place(rely=.5,relwidth = 1,relheight = .5)\n",
    "\n",
    "window.mainloop()"
   ]
  },
  {
   "cell_type": "code",
   "execution_count": null,
   "metadata": {},
   "outputs": [],
   "source": []
  },
  {
   "cell_type": "code",
   "execution_count": 16,
   "metadata": {},
   "outputs": [],
   "source": []
  },
  {
   "cell_type": "code",
   "execution_count": null,
   "metadata": {},
   "outputs": [],
   "source": []
  },
  {
   "cell_type": "code",
   "execution_count": null,
   "metadata": {},
   "outputs": [],
   "source": []
  },
  {
   "cell_type": "code",
   "execution_count": null,
   "metadata": {},
   "outputs": [],
   "source": []
  }
 ],
 "metadata": {
  "kernelspec": {
   "display_name": "Python 3",
   "language": "python",
   "name": "python3"
  },
  "language_info": {
   "codemirror_mode": {
    "name": "ipython",
    "version": 3
   },
   "file_extension": ".py",
   "mimetype": "text/x-python",
   "name": "python",
   "nbconvert_exporter": "python",
   "pygments_lexer": "ipython3",
   "version": "3.7.6"
  }
 },
 "nbformat": 4,
 "nbformat_minor": 4
}
